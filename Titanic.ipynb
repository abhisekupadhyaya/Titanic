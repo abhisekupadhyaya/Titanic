{
 "cells": [
  {
   "cell_type": "code",
   "execution_count": 6,
   "metadata": {
    "collapsed": true
   },
   "outputs": [],
   "source": [
    "import numpy as np\n",
    "import pandas as pd\n",
    "import matplotlib.pyplot as plt\n",
    "from sklearn.preprocessing import MinMaxScaler\n",
    "from sklearn.linear_model import LogisticRegression"
   ]
  },
  {
   "cell_type": "code",
   "execution_count": 7,
   "metadata": {
    "collapsed": true
   },
   "outputs": [],
   "source": [
    "#The features of the datasets will be the coloum name in data table. \n",
    "#'col_name' cointains the names of the features of the dataset of training data\n",
    "#'test_col' cointains the names of the feature in test dataset\n",
    "#'expected_col' cointains the name of the features that are to be predicted from 'test_col', here 'survival'\n",
    "col_name = ['id', 'survival', 'p_class', 'name', 'sex', 'age', 'sib_sp', 'par_ch', 'ticket_no', 'fare', 'cabin_no', 'embarked']\n",
    "test_col = ['id', 'p_class', 'name', 'sex', 'age', 'sib_sp', 'par_ch', 'ticket_no', 'fare', 'cabin_no', 'embarked']\n",
    "expected_col =['id', 'survival']"
   ]
  },
  {
   "cell_type": "code",
   "execution_count": 8,
   "metadata": {
    "collapsed": true,
    "scrolled": true
   },
   "outputs": [],
   "source": [
    "#The file 'test.csv' cointains the data that should be used to train the hypothesis.\n",
    "#'test.csv' cointains the data on which the hypothesis is to be tested. \n",
    "#The expected prediction, ie. 'survival', on dataset 'test.csv' is given in 'gender_submission.csv'\n",
    "train_df = pd.read_csv( 'train.csv', delimiter = ',', names = col_name, quotechar='\"', skiprows = [0])\n",
    "test_df = pd.read_csv( 'test.csv', delimiter = ',', names = test_col, quotechar='\"', skiprows = [0])\n",
    "expected_df = pd.read_csv( 'gender_submission.csv', delimiter = ',', names = expected_col, skiprows = [0])"
   ]
  },
  {
   "cell_type": "code",
   "execution_count": 9,
   "metadata": {
    "collapsed": true
   },
   "outputs": [],
   "source": [
    "#The train(train_df) dataset is divided into two parts\n",
    "#The first part(train_outcome) cointains the values of the features that hypothesis should predict\n",
    "#The secound part(train_data) cointains the values of the features on the basis of which hypothesis predicts.\n",
    "#Simillary the required features of the test dataset are extracted where data wh=ith age is 'NaN' is ignored\n",
    "#From Dummies variable we get two coloum, one which shows 1 if 'male' other coloum shows 1 if 'female'.\n",
    "#We choose the former. This is done because logistic regression classifies can only optimize numerical inputs.\n",
    "train_data = pd.DataFrame()\n",
    "test_data = pd.DataFrame()\n",
    "\n",
    "train_data['p_class'] = train_df['p_class']\n",
    "train_data['age'] = train_df['age']\n",
    "train_data['sex'] = pd.get_dummies(train_df['sex'])['male']\n",
    "train_outcome = train_df.loc[ np.isfinite(train_data['age'] ), 'survival']\n",
    "train_data = train_data[ np.isfinite(train_data['age'] )]\n",
    "\n",
    "test_data['p_class'] = test_df['p_class']\n",
    "test_data['age'] = test_df['age']\n",
    "test_data['sex'] = pd.get_dummies(test_df['sex'])['male']\n",
    "expected_prediction = expected_df.loc[np.isfinite(test_data['age'] )]\n",
    "test_data = test_data[ np.isfinite(test_data['age'] )]"
   ]
  },
  {
   "cell_type": "code",
   "execution_count": 10,
   "metadata": {
    "collapsed": true
   },
   "outputs": [],
   "source": [
    "#The Feature are scaled inorder to avoid dominance of a type of data over others.\n",
    "#Here MinMaxScalar is used which is (x - xmin)/(xmax - xmin)\n",
    "scaler = MinMaxScaler()\n",
    "scaler.fit(train_data)\n",
    "\n",
    "train_data = scaler.transform(train_data)\n",
    "test_data = scaler.transform(test_data)"
   ]
  },
  {
   "cell_type": "code",
   "execution_count": null,
   "metadata": {
    "collapsed": true
   },
   "outputs": [],
   "source": []
  },
  {
   "cell_type": "code",
   "execution_count": null,
   "metadata": {
    "collapsed": true
   },
   "outputs": [],
   "source": []
  }
 ],
 "metadata": {
  "anaconda-cloud": {},
  "kernelspec": {
   "display_name": "Python 3",
   "language": "python",
   "name": "python3"
  },
  "language_info": {
   "codemirror_mode": {
    "name": "ipython",
    "version": 3
   },
   "file_extension": ".py",
   "mimetype": "text/x-python",
   "name": "python",
   "nbconvert_exporter": "python",
   "pygments_lexer": "ipython3",
   "version": "3.6.2"
  }
 },
 "nbformat": 4,
 "nbformat_minor": 1
}
